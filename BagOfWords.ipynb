{
  "nbformat": 4,
  "nbformat_minor": 0,
  "metadata": {
    "colab": {
      "name": "BagOfWords.ipynb",
      "provenance": [],
      "collapsed_sections": []
    },
    "kernelspec": {
      "name": "python3",
      "display_name": "Python 3"
    },
    "language_info": {
      "name": "python"
    }
  },
  "cells": [
    {
      "cell_type": "code",
      "source": [
        "nltk.download('punkt')"
      ],
      "metadata": {
        "colab": {
          "base_uri": "https://localhost:8080/"
        },
        "id": "8iS5-AS9a4-y",
        "outputId": "8c6dfb8c-98ec-41b4-cd48-1872a4fc6186"
      },
      "execution_count": null,
      "outputs": [
        {
          "output_type": "stream",
          "name": "stdout",
          "text": [
            "[nltk_data] Downloading package punkt to /root/nltk_data...\n",
            "[nltk_data]   Unzipping tokenizers/punkt.zip.\n"
          ]
        },
        {
          "output_type": "execute_result",
          "data": {
            "text/plain": [
              "True"
            ]
          },
          "metadata": {},
          "execution_count": 2
        }
      ]
    },
    {
      "cell_type": "code",
      "source": [
        "nltk.download('stopwords')"
      ],
      "metadata": {
        "colab": {
          "base_uri": "https://localhost:8080/"
        },
        "id": "aII3cXwRbDEa",
        "outputId": "0800cf0e-28a2-4693-8c8f-80f71924df48"
      },
      "execution_count": null,
      "outputs": [
        {
          "output_type": "stream",
          "name": "stdout",
          "text": [
            "[nltk_data] Downloading package stopwords to /root/nltk_data...\n",
            "[nltk_data]   Unzipping corpora/stopwords.zip.\n"
          ]
        },
        {
          "output_type": "execute_result",
          "data": {
            "text/plain": [
              "True"
            ]
          },
          "metadata": {},
          "execution_count": 4
        }
      ]
    },
    {
      "cell_type": "code",
      "execution_count": null,
      "metadata": {
        "colab": {
          "base_uri": "https://localhost:8080/"
        },
        "id": "CQB_3rhyjvLI",
        "outputId": "3fd2dec4-6f03-4d11-a0d7-1869b4fc506e"
      },
      "outputs": [
        {
          "output_type": "stream",
          "name": "stdout",
          "text": [
            "rrrrrr :  ['three', 'vision', 'india']\n",
            "11111111 :  three vision india\n",
            "['three vision india']\n",
            "rrrrrr :  ['year', 'histori', 'peopl', 'world', 'come', 'invad', 'us', 'captur', 'land', 'conquer', 'mind']\n",
            "11111111 :  year histori peopl world come invad us captur land conquer mind\n",
            "['three vision india', 'year histori peopl world come invad us captur land conquer mind']\n",
            "rrrrrr :  ['alexand', 'onward', 'greek', 'turk', 'mogul', 'portugues', 'british', 'french', 'dutch', 'came', 'loot', 'us', 'took']\n",
            "11111111 :  alexand onward greek turk mogul portugues british french dutch came loot us took\n",
            "['three vision india', 'year histori peopl world come invad us captur land conquer mind', 'alexand onward greek turk mogul portugues british french dutch came loot us took']\n",
            "rrrrrr :  ['yet', 'done', 'nation']\n",
            "11111111 :  yet done nation\n",
            "['three vision india', 'year histori peopl world come invad us captur land conquer mind', 'alexand onward greek turk mogul portugues british french dutch came loot us took', 'yet done nation']\n",
            "rrrrrr :  ['conquer', 'anyon']\n",
            "11111111 :  conquer anyon\n",
            "['three vision india', 'year histori peopl world come invad us captur land conquer mind', 'alexand onward greek turk mogul portugues british french dutch came loot us took', 'yet done nation', 'conquer anyon']\n",
            "rrrrrr :  ['grab', 'land', 'cultur', 'histori', 'tri', 'enforc', 'way', 'life']\n",
            "11111111 :  grab land cultur histori tri enforc way life\n",
            "['three vision india', 'year histori peopl world come invad us captur land conquer mind', 'alexand onward greek turk mogul portugues british french dutch came loot us took', 'yet done nation', 'conquer anyon', 'grab land cultur histori tri enforc way life']\n",
            "rrrrrr :  []\n",
            "11111111 :  \n",
            "['three vision india', 'year histori peopl world come invad us captur land conquer mind', 'alexand onward greek turk mogul portugues british french dutch came loot us took', 'yet done nation', 'conquer anyon', 'grab land cultur histori tri enforc way life', '']\n",
            "rrrrrr :  ['respect', 'freedom', 'other', 'first', 'vision', 'freedom']\n",
            "11111111 :  respect freedom other first vision freedom\n",
            "['three vision india', 'year histori peopl world come invad us captur land conquer mind', 'alexand onward greek turk mogul portugues british french dutch came loot us took', 'yet done nation', 'conquer anyon', 'grab land cultur histori tri enforc way life', '', 'respect freedom other first vision freedom']\n",
            "rrrrrr :  ['believ', 'india', 'got', 'first', 'vision', 'start', 'war', 'independ']\n",
            "11111111 :  believ india got first vision start war independ\n",
            "['three vision india', 'year histori peopl world come invad us captur land conquer mind', 'alexand onward greek turk mogul portugues british french dutch came loot us took', 'yet done nation', 'conquer anyon', 'grab land cultur histori tri enforc way life', '', 'respect freedom other first vision freedom', 'believ india got first vision start war independ']\n",
            "rrrrrr :  ['freedom', 'must', 'protect', 'nurtur', 'build']\n",
            "11111111 :  freedom must protect nurtur build\n",
            "['three vision india', 'year histori peopl world come invad us captur land conquer mind', 'alexand onward greek turk mogul portugues british french dutch came loot us took', 'yet done nation', 'conquer anyon', 'grab land cultur histori tri enforc way life', '', 'respect freedom other first vision freedom', 'believ india got first vision start war independ', 'freedom must protect nurtur build']\n",
            "rrrrrr :  ['free', 'one', 'respect', 'us']\n",
            "11111111 :  free one respect us\n",
            "['three vision india', 'year histori peopl world come invad us captur land conquer mind', 'alexand onward greek turk mogul portugues british french dutch came loot us took', 'yet done nation', 'conquer anyon', 'grab land cultur histori tri enforc way life', '', 'respect freedom other first vision freedom', 'believ india got first vision start war independ', 'freedom must protect nurtur build', 'free one respect us']\n",
            "rrrrrr :  ['second', 'vision', 'india', 'develop']\n",
            "11111111 :  second vision india develop\n",
            "['three vision india', 'year histori peopl world come invad us captur land conquer mind', 'alexand onward greek turk mogul portugues british french dutch came loot us took', 'yet done nation', 'conquer anyon', 'grab land cultur histori tri enforc way life', '', 'respect freedom other first vision freedom', 'believ india got first vision start war independ', 'freedom must protect nurtur build', 'free one respect us', 'second vision india develop']\n",
            "rrrrrr :  ['fifti', 'year', 'develop', 'nation']\n",
            "11111111 :  fifti year develop nation\n",
            "['three vision india', 'year histori peopl world come invad us captur land conquer mind', 'alexand onward greek turk mogul portugues british french dutch came loot us took', 'yet done nation', 'conquer anyon', 'grab land cultur histori tri enforc way life', '', 'respect freedom other first vision freedom', 'believ india got first vision start war independ', 'freedom must protect nurtur build', 'free one respect us', 'second vision india develop', 'fifti year develop nation']\n",
            "rrrrrr :  ['time', 'see', 'develop', 'nation']\n",
            "11111111 :  time see develop nation\n",
            "['three vision india', 'year histori peopl world come invad us captur land conquer mind', 'alexand onward greek turk mogul portugues british french dutch came loot us took', 'yet done nation', 'conquer anyon', 'grab land cultur histori tri enforc way life', '', 'respect freedom other first vision freedom', 'believ india got first vision start war independ', 'freedom must protect nurtur build', 'free one respect us', 'second vision india develop', 'fifti year develop nation', 'time see develop nation']\n",
            "rrrrrr :  ['among', 'top', 'nation', 'world', 'term', 'gdp']\n",
            "11111111 :  among top nation world term gdp\n",
            "['three vision india', 'year histori peopl world come invad us captur land conquer mind', 'alexand onward greek turk mogul portugues british french dutch came loot us took', 'yet done nation', 'conquer anyon', 'grab land cultur histori tri enforc way life', '', 'respect freedom other first vision freedom', 'believ india got first vision start war independ', 'freedom must protect nurtur build', 'free one respect us', 'second vision india develop', 'fifti year develop nation', 'time see develop nation', 'among top nation world term gdp']\n",
            "rrrrrr :  ['percent', 'growth', 'rate', 'area']\n",
            "11111111 :  percent growth rate area\n",
            "['three vision india', 'year histori peopl world come invad us captur land conquer mind', 'alexand onward greek turk mogul portugues british french dutch came loot us took', 'yet done nation', 'conquer anyon', 'grab land cultur histori tri enforc way life', '', 'respect freedom other first vision freedom', 'believ india got first vision start war independ', 'freedom must protect nurtur build', 'free one respect us', 'second vision india develop', 'fifti year develop nation', 'time see develop nation', 'among top nation world term gdp', 'percent growth rate area']\n",
            "rrrrrr :  ['poverti', 'level', 'fall']\n",
            "11111111 :  poverti level fall\n",
            "['three vision india', 'year histori peopl world come invad us captur land conquer mind', 'alexand onward greek turk mogul portugues british french dutch came loot us took', 'yet done nation', 'conquer anyon', 'grab land cultur histori tri enforc way life', '', 'respect freedom other first vision freedom', 'believ india got first vision start war independ', 'freedom must protect nurtur build', 'free one respect us', 'second vision india develop', 'fifti year develop nation', 'time see develop nation', 'among top nation world term gdp', 'percent growth rate area', 'poverti level fall']\n",
            "rrrrrr :  ['achiev', 'global', 'recognis', 'today']\n",
            "11111111 :  achiev global recognis today\n",
            "['three vision india', 'year histori peopl world come invad us captur land conquer mind', 'alexand onward greek turk mogul portugues british french dutch came loot us took', 'yet done nation', 'conquer anyon', 'grab land cultur histori tri enforc way life', '', 'respect freedom other first vision freedom', 'believ india got first vision start war independ', 'freedom must protect nurtur build', 'free one respect us', 'second vision india develop', 'fifti year develop nation', 'time see develop nation', 'among top nation world term gdp', 'percent growth rate area', 'poverti level fall', 'achiev global recognis today']\n",
            "rrrrrr :  ['yet', 'lack', 'self', 'confid', 'see', 'develop', 'nation', 'self', 'reliant', 'self', 'assur']\n",
            "11111111 :  yet lack self confid see develop nation self reliant self assur\n",
            "['three vision india', 'year histori peopl world come invad us captur land conquer mind', 'alexand onward greek turk mogul portugues british french dutch came loot us took', 'yet done nation', 'conquer anyon', 'grab land cultur histori tri enforc way life', '', 'respect freedom other first vision freedom', 'believ india got first vision start war independ', 'freedom must protect nurtur build', 'free one respect us', 'second vision india develop', 'fifti year develop nation', 'time see develop nation', 'among top nation world term gdp', 'percent growth rate area', 'poverti level fall', 'achiev global recognis today', 'yet lack self confid see develop nation self reliant self assur']\n",
            "rrrrrr :  ['incorrect']\n",
            "11111111 :  incorrect\n",
            "['three vision india', 'year histori peopl world come invad us captur land conquer mind', 'alexand onward greek turk mogul portugues british french dutch came loot us took', 'yet done nation', 'conquer anyon', 'grab land cultur histori tri enforc way life', '', 'respect freedom other first vision freedom', 'believ india got first vision start war independ', 'freedom must protect nurtur build', 'free one respect us', 'second vision india develop', 'fifti year develop nation', 'time see develop nation', 'among top nation world term gdp', 'percent growth rate area', 'poverti level fall', 'achiev global recognis today', 'yet lack self confid see develop nation self reliant self assur', 'incorrect']\n",
            "rrrrrr :  ['third', 'vision']\n",
            "11111111 :  third vision\n",
            "['three vision india', 'year histori peopl world come invad us captur land conquer mind', 'alexand onward greek turk mogul portugues british french dutch came loot us took', 'yet done nation', 'conquer anyon', 'grab land cultur histori tri enforc way life', '', 'respect freedom other first vision freedom', 'believ india got first vision start war independ', 'freedom must protect nurtur build', 'free one respect us', 'second vision india develop', 'fifti year develop nation', 'time see develop nation', 'among top nation world term gdp', 'percent growth rate area', 'poverti level fall', 'achiev global recognis today', 'yet lack self confid see develop nation self reliant self assur', 'incorrect', 'third vision']\n",
            "rrrrrr :  ['india', 'must', 'stand', 'world']\n",
            "11111111 :  india must stand world\n",
            "['three vision india', 'year histori peopl world come invad us captur land conquer mind', 'alexand onward greek turk mogul portugues british french dutch came loot us took', 'yet done nation', 'conquer anyon', 'grab land cultur histori tri enforc way life', '', 'respect freedom other first vision freedom', 'believ india got first vision start war independ', 'freedom must protect nurtur build', 'free one respect us', 'second vision india develop', 'fifti year develop nation', 'time see develop nation', 'among top nation world term gdp', 'percent growth rate area', 'poverti level fall', 'achiev global recognis today', 'yet lack self confid see develop nation self reliant self assur', 'incorrect', 'third vision', 'india must stand world']\n",
            "rrrrrr :  ['believ', 'unless', 'india', 'stand', 'world', 'one', 'respect', 'us']\n",
            "11111111 :  believ unless india stand world one respect us\n",
            "['three vision india', 'year histori peopl world come invad us captur land conquer mind', 'alexand onward greek turk mogul portugues british french dutch came loot us took', 'yet done nation', 'conquer anyon', 'grab land cultur histori tri enforc way life', '', 'respect freedom other first vision freedom', 'believ india got first vision start war independ', 'freedom must protect nurtur build', 'free one respect us', 'second vision india develop', 'fifti year develop nation', 'time see develop nation', 'among top nation world term gdp', 'percent growth rate area', 'poverti level fall', 'achiev global recognis today', 'yet lack self confid see develop nation self reliant self assur', 'incorrect', 'third vision', 'india must stand world', 'believ unless india stand world one respect us']\n",
            "rrrrrr :  ['strength', 'respect', 'strength']\n",
            "11111111 :  strength respect strength\n",
            "['three vision india', 'year histori peopl world come invad us captur land conquer mind', 'alexand onward greek turk mogul portugues british french dutch came loot us took', 'yet done nation', 'conquer anyon', 'grab land cultur histori tri enforc way life', '', 'respect freedom other first vision freedom', 'believ india got first vision start war independ', 'freedom must protect nurtur build', 'free one respect us', 'second vision india develop', 'fifti year develop nation', 'time see develop nation', 'among top nation world term gdp', 'percent growth rate area', 'poverti level fall', 'achiev global recognis today', 'yet lack self confid see develop nation self reliant self assur', 'incorrect', 'third vision', 'india must stand world', 'believ unless india stand world one respect us', 'strength respect strength']\n",
            "rrrrrr :  ['must', 'strong', 'militari', 'power', 'also', 'econom', 'power']\n",
            "11111111 :  must strong militari power also econom power\n",
            "['three vision india', 'year histori peopl world come invad us captur land conquer mind', 'alexand onward greek turk mogul portugues british french dutch came loot us took', 'yet done nation', 'conquer anyon', 'grab land cultur histori tri enforc way life', '', 'respect freedom other first vision freedom', 'believ india got first vision start war independ', 'freedom must protect nurtur build', 'free one respect us', 'second vision india develop', 'fifti year develop nation', 'time see develop nation', 'among top nation world term gdp', 'percent growth rate area', 'poverti level fall', 'achiev global recognis today', 'yet lack self confid see develop nation self reliant self assur', 'incorrect', 'third vision', 'india must stand world', 'believ unless india stand world one respect us', 'strength respect strength', 'must strong militari power also econom power']\n",
            "rrrrrr :  ['must', 'go', 'hand', 'hand']\n",
            "11111111 :  must go hand hand\n",
            "['three vision india', 'year histori peopl world come invad us captur land conquer mind', 'alexand onward greek turk mogul portugues british french dutch came loot us took', 'yet done nation', 'conquer anyon', 'grab land cultur histori tri enforc way life', '', 'respect freedom other first vision freedom', 'believ india got first vision start war independ', 'freedom must protect nurtur build', 'free one respect us', 'second vision india develop', 'fifti year develop nation', 'time see develop nation', 'among top nation world term gdp', 'percent growth rate area', 'poverti level fall', 'achiev global recognis today', 'yet lack self confid see develop nation self reliant self assur', 'incorrect', 'third vision', 'india must stand world', 'believ unless india stand world one respect us', 'strength respect strength', 'must strong militari power also econom power', 'must go hand hand']\n",
            "rrrrrr :  ['good', 'fortun', 'work', 'three', 'great', 'mind']\n",
            "11111111 :  good fortun work three great mind\n",
            "['three vision india', 'year histori peopl world come invad us captur land conquer mind', 'alexand onward greek turk mogul portugues british french dutch came loot us took', 'yet done nation', 'conquer anyon', 'grab land cultur histori tri enforc way life', '', 'respect freedom other first vision freedom', 'believ india got first vision start war independ', 'freedom must protect nurtur build', 'free one respect us', 'second vision india develop', 'fifti year develop nation', 'time see develop nation', 'among top nation world term gdp', 'percent growth rate area', 'poverti level fall', 'achiev global recognis today', 'yet lack self confid see develop nation self reliant self assur', 'incorrect', 'third vision', 'india must stand world', 'believ unless india stand world one respect us', 'strength respect strength', 'must strong militari power also econom power', 'must go hand hand', 'good fortun work three great mind']\n",
            "rrrrrr :  ['dr', 'vikram', 'sarabhai', 'dept']\n",
            "11111111 :  dr vikram sarabhai dept\n",
            "['three vision india', 'year histori peopl world come invad us captur land conquer mind', 'alexand onward greek turk mogul portugues british french dutch came loot us took', 'yet done nation', 'conquer anyon', 'grab land cultur histori tri enforc way life', '', 'respect freedom other first vision freedom', 'believ india got first vision start war independ', 'freedom must protect nurtur build', 'free one respect us', 'second vision india develop', 'fifti year develop nation', 'time see develop nation', 'among top nation world term gdp', 'percent growth rate area', 'poverti level fall', 'achiev global recognis today', 'yet lack self confid see develop nation self reliant self assur', 'incorrect', 'third vision', 'india must stand world', 'believ unless india stand world one respect us', 'strength respect strength', 'must strong militari power also econom power', 'must go hand hand', 'good fortun work three great mind', 'dr vikram sarabhai dept']\n",
            "rrrrrr :  ['space', 'professor', 'satish', 'dhawan', 'succeed', 'dr', 'brahm', 'prakash', 'father', 'nuclear', 'materi']\n",
            "11111111 :  space professor satish dhawan succeed dr brahm prakash father nuclear materi\n",
            "['three vision india', 'year histori peopl world come invad us captur land conquer mind', 'alexand onward greek turk mogul portugues british french dutch came loot us took', 'yet done nation', 'conquer anyon', 'grab land cultur histori tri enforc way life', '', 'respect freedom other first vision freedom', 'believ india got first vision start war independ', 'freedom must protect nurtur build', 'free one respect us', 'second vision india develop', 'fifti year develop nation', 'time see develop nation', 'among top nation world term gdp', 'percent growth rate area', 'poverti level fall', 'achiev global recognis today', 'yet lack self confid see develop nation self reliant self assur', 'incorrect', 'third vision', 'india must stand world', 'believ unless india stand world one respect us', 'strength respect strength', 'must strong militari power also econom power', 'must go hand hand', 'good fortun work three great mind', 'dr vikram sarabhai dept', 'space professor satish dhawan succeed dr brahm prakash father nuclear materi']\n",
            "rrrrrr :  ['lucki', 'work', 'three', 'close', 'consid', 'great', 'opportun', 'life']\n",
            "11111111 :  lucki work three close consid great opportun life\n",
            "['three vision india', 'year histori peopl world come invad us captur land conquer mind', 'alexand onward greek turk mogul portugues british french dutch came loot us took', 'yet done nation', 'conquer anyon', 'grab land cultur histori tri enforc way life', '', 'respect freedom other first vision freedom', 'believ india got first vision start war independ', 'freedom must protect nurtur build', 'free one respect us', 'second vision india develop', 'fifti year develop nation', 'time see develop nation', 'among top nation world term gdp', 'percent growth rate area', 'poverti level fall', 'achiev global recognis today', 'yet lack self confid see develop nation self reliant self assur', 'incorrect', 'third vision', 'india must stand world', 'believ unless india stand world one respect us', 'strength respect strength', 'must strong militari power also econom power', 'must go hand hand', 'good fortun work three great mind', 'dr vikram sarabhai dept', 'space professor satish dhawan succeed dr brahm prakash father nuclear materi', 'lucki work three close consid great opportun life']\n",
            "rrrrrr :  ['see', 'four', 'mileston', 'career']\n",
            "11111111 :  see four mileston career\n",
            "['three vision india', 'year histori peopl world come invad us captur land conquer mind', 'alexand onward greek turk mogul portugues british french dutch came loot us took', 'yet done nation', 'conquer anyon', 'grab land cultur histori tri enforc way life', '', 'respect freedom other first vision freedom', 'believ india got first vision start war independ', 'freedom must protect nurtur build', 'free one respect us', 'second vision india develop', 'fifti year develop nation', 'time see develop nation', 'among top nation world term gdp', 'percent growth rate area', 'poverti level fall', 'achiev global recognis today', 'yet lack self confid see develop nation self reliant self assur', 'incorrect', 'third vision', 'india must stand world', 'believ unless india stand world one respect us', 'strength respect strength', 'must strong militari power also econom power', 'must go hand hand', 'good fortun work three great mind', 'dr vikram sarabhai dept', 'space professor satish dhawan succeed dr brahm prakash father nuclear materi', 'lucki work three close consid great opportun life', 'see four mileston career']\n"
          ]
        },
        {
          "output_type": "execute_result",
          "data": {
            "text/plain": [
              "array([[0, 0, 0, ..., 0, 0, 0],\n",
              "       [0, 0, 0, ..., 1, 1, 0],\n",
              "       [0, 1, 0, ..., 0, 0, 0],\n",
              "       ...,\n",
              "       [0, 0, 0, ..., 0, 0, 0],\n",
              "       [0, 0, 0, ..., 0, 0, 0],\n",
              "       [0, 0, 0, ..., 0, 0, 0]])"
            ]
          },
          "metadata": {},
          "execution_count": 12
        }
      ],
      "source": [
        "import nltk\n",
        "\n",
        "paragraph =  \"\"\"I have three visions for India. In 3000 years of our history, people from all over \n",
        "               the world have come and invaded us, captured our lands, conquered our minds. \n",
        "               From Alexander onwards, the Greeks, the Turks, the Moguls, the Portuguese, the British,\n",
        "               the French, the Dutch, all of them came and looted us, took over what was ours. \n",
        "               Yet we have not done this to any other nation. We have not conquered anyone. \n",
        "               We have not grabbed their land, their culture, \n",
        "               their history and tried to enforce our way of life on them. \n",
        "               Why? Because we respect the freedom of others.That is why my \n",
        "               first vision is that of freedom. I believe that India got its first vision of \n",
        "               this in 1857, when we started the War of Independence. It is this freedom that\n",
        "               we must protect and nurture and build on. If we are not free, no one will respect us.\n",
        "               My second vision for India’s development. For fifty years we have been a developing nation.\n",
        "               It is time we see ourselves as a developed nation. We are among the top 5 nations of the world\n",
        "               in terms of GDP. We have a 10 percent growth rate in most areas. Our poverty levels are falling.\n",
        "               Our achievements are being globally recognised today. Yet we lack the self-confidence to\n",
        "               see ourselves as a developed nation, self-reliant and self-assured. Isn’t this incorrect?\n",
        "               I have a third vision. India must stand up to the world. Because I believe that unless India \n",
        "               stands up to the world, no one will respect us. Only strength respects strength. We must be \n",
        "               strong not only as a military power but also as an economic power. Both must go hand-in-hand. \n",
        "               My good fortune was to have worked with three great minds. Dr. Vikram Sarabhai of the Dept. of \n",
        "               space, Professor Satish Dhawan, who succeeded him and Dr. Brahm Prakash, father of nuclear material.\n",
        "               I was lucky to have worked with all three of them closely and consider this the great opportunity of my life. \n",
        "               I see four milestones in my career\"\"\"\n",
        "               \n",
        "               \n",
        "# Cleaning the texts\n",
        "import re\n",
        "from nltk.corpus import stopwords\n",
        "from nltk.stem.porter import PorterStemmer\n",
        "from nltk.stem import WordNetLemmatizer\n",
        "\n",
        "ps = PorterStemmer()\n",
        "wordnet=WordNetLemmatizer()\n",
        "sentences = nltk.sent_tokenize(paragraph)\n",
        "corpus = []\n",
        "for i in range(len(sentences)):\n",
        "    review = re.sub('[^a-zA-Z]', ' ', sentences[i])\n",
        "    review = review.lower()\n",
        "    review = review.split()\n",
        "    review = [ps.stem(word) for word in review if not word in set(stopwords.words('english'))]\n",
        "    print(\"rrrrrr : \",review)\n",
        "    review = ' '.join(review)\n",
        "    print(\"11111111 : \",review)\n",
        "    corpus.append(review)\n",
        "    print(corpus)\n",
        "# Creating the Bag of Words model\n",
        "from sklearn.feature_extraction.text import CountVectorizer\n",
        "cv = CountVectorizer()\n",
        "X = cv.fit_transform(corpus).toarray()\n",
        "X"
      ]
    },
    {
      "cell_type": "code",
      "source": [
        "txt = \"welcome to the jungle\"\n",
        "\n",
        "txt.split()"
      ],
      "metadata": {
        "colab": {
          "base_uri": "https://localhost:8080/"
        },
        "id": "j-ts1U0EbhuO",
        "outputId": "9eb62869-3f8a-4fd6-a29d-fb6104a671c5"
      },
      "execution_count": null,
      "outputs": [
        {
          "output_type": "execute_result",
          "data": {
            "text/plain": [
              "['welcome', 'to', 'the', 'jungle']"
            ]
          },
          "metadata": {},
          "execution_count": 9
        }
      ]
    },
    {
      "cell_type": "code",
      "source": [
        "# >>> from nltk.tokenize import word_tokenize\n",
        "# >>> s = '''Good muffins cost $3.88\\nin New York.  Please buy me\n",
        "# ... two of them.\\n\\nThanks.'''\n",
        "# >>> word_tokenize(s)\n",
        "# ['Good', 'muffins', 'cost', '$', '3.88', 'in', 'New', 'York', '.',\n",
        "# 'Please', 'buy', 'me', 'two', 'of', 'them', '.', 'Thanks', '.']"
      ],
      "metadata": {
        "id": "YDfAlxN-Z_zQ"
      },
      "execution_count": null,
      "outputs": []
    },
    {
      "cell_type": "code",
      "source": [
        "# >>> from nltk.tokenize import sent_tokenize, word_tokenize\n",
        "# >>> sent_tokenize(s)\n",
        "# ['Good muffins cost $3.88\\nin New York.', 'Please buy me\\ntwo of them.', 'Thanks.']\n",
        "# >>> [word_tokenize(t) for t in sent_tokenize(s)]\n",
        "# [['Good', 'muffins', 'cost', '$', '3.88', 'in', 'New', 'York', '.'],\n",
        "# ['Please', 'buy', 'me', 'two', 'of', 'them', '.'], ['Thanks', '.']]"
      ],
      "metadata": {
        "id": "SbzbYivkaED2"
      },
      "execution_count": null,
      "outputs": []
    },
    {
      "cell_type": "code",
      "source": [
        "from sklearn.feature_extraction.text import CountVectorizer\n",
        "\n",
        "document = [\"One Geek helps Two Geeks\",\n",
        "\t\t\t\"Two Geeks help Four Geeks\",\n",
        "\t\t\t\"Each Geek helps many other Geeks at GeeksforGeeks\"]\n",
        "\n",
        "# Create a Vectorizer Object\n",
        "vectorizer = CountVectorizer()\n",
        "\n",
        "vectorizer.fit(document)\n",
        "\n",
        "# Printing the identified Unique words along with their indices\n",
        "print(\"Vocabulary: \", vectorizer.vocabulary_)\n",
        "\n",
        "# Encode the Document\n",
        "vector = vectorizer.transform(document)\n",
        "\n",
        "# Summarizing the Encoded Texts\n",
        "print(\"Encoded Document is:\")\n",
        "print(vector.toarray())\n"
      ],
      "metadata": {
        "colab": {
          "base_uri": "https://localhost:8080/"
        },
        "id": "r45Eb7gDeIjk",
        "outputId": "593947a3-b559-4de3-c38c-ffddb785df04"
      },
      "execution_count": null,
      "outputs": [
        {
          "output_type": "stream",
          "name": "stdout",
          "text": [
            "Vocabulary:  {'one': 9, 'geek': 3, 'helps': 7, 'two': 11, 'geeks': 4, 'help': 6, 'four': 2, 'each': 1, 'many': 8, 'other': 10, 'at': 0, 'geeksforgeeks': 5}\n",
            "Encoded Document is:\n",
            "[[0 0 0 1 1 0 0 1 0 1 0 1]\n",
            " [0 0 1 0 2 0 1 0 0 0 0 1]\n",
            " [1 1 0 1 1 1 0 1 1 0 1 0]]\n"
          ]
        }
      ]
    },
    {
      "cell_type": "code",
      "source": [
        "from sklearn.feature_extraction.text import CountVectorizer"
      ],
      "metadata": {
        "id": "hroAzuHCQRhp"
      },
      "execution_count": null,
      "outputs": []
    },
    {
      "cell_type": "code",
      "source": [
        "sentences = ['Rashmi likes ice cream', 'Rashmi hates chocolate.']\n",
        "\n",
        "vectorizer = CountVectorizer()\n",
        "vectorizer.fit(sentences)\n",
        "vectorizer.vocabulary_"
      ],
      "metadata": {
        "colab": {
          "base_uri": "https://localhost:8080/"
        },
        "id": "rGo0M5J6QN-j",
        "outputId": "6f9d29d7-7953-4ff6-f3d7-0217348d050c"
      },
      "execution_count": null,
      "outputs": [
        {
          "output_type": "execute_result",
          "data": {
            "text/plain": [
              "{'chocolate': 0, 'cream': 1, 'hates': 2, 'ice': 3, 'likes': 4, 'rashmi': 5}"
            ]
          },
          "metadata": {},
          "execution_count": 2
        }
      ]
    }
  ]
}