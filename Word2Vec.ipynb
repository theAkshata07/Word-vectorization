{
  "nbformat": 4,
  "nbformat_minor": 0,
  "metadata": {
    "colab": {
      "name": "Word2Vec.ipynb",
      "provenance": [],
      "collapsed_sections": []
    },
    "kernelspec": {
      "name": "python3",
      "display_name": "Python 3"
    },
    "language_info": {
      "name": "python"
    }
  },
  "cells": [
    {
      "cell_type": "code",
      "execution_count": null,
      "metadata": {
        "id": "wHKBKKkYHn6k"
      },
      "outputs": [],
      "source": [
        "import nltk\n",
        "\n",
        "from gensim.models import Word2Vec\n",
        "from nltk.corpus import stopwords\n",
        "\n",
        "import re\n",
        "\n",
        "paragraph = \"\"\"I have three visions for India. In 3000 years of our history, people from all over \n",
        "               the world have come and invaded us, captured our lands, conquered our minds. \n",
        "               From Alexander onwards, the Greeks, the Turks, the Moguls, the Portuguese, the British,\n",
        "               the French, the Dutch, all of them came and looted us, took over what was ours. \n",
        "               Yet we have not done this to any other nation. We have not conquered anyone. \n",
        "               We have not grabbed their land, their culture, \n",
        "               their history and tried to enforce our way of life on them. \n",
        "               Why? Because we respect the freedom of others.That is why my \n",
        "               first vision is that of freedom. I believe that India got its first vision of \n",
        "               this in 1857, when we started the War of Independence. It is this freedom that\n",
        "               we must protect and nurture and build on. If we are not free, no one will respect us.\n",
        "               My second vision for India’s development. For fifty years we have been a developing nation.\n",
        "               It is time we see ourselves as a developed nation. We are among the top 5 nations of the world\n",
        "               in terms of GDP. We have a 10 percent growth rate in most areas. Our poverty levels are falling.\n",
        "               Our achievements are being globally recognised today. Yet we lack the self-confidence to\n",
        "               see ourselves as a developed nation, self-reliant and self-assured. Isn’t this incorrect?\n",
        "               I have a third vision. India must stand up to the world. Because I believe that unless India \n",
        "               stands up to the world, no one will respect us. Only strength respects strength. We must be \n",
        "               strong not only as a military power but also as an economic power. Both must go hand-in-hand. \n",
        "               My good fortune was to have worked with three great minds. Dr. Vikram Sarabhai of the Dept. of \n",
        "               space, Professor Satish Dhawan, who succeeded him and Dr. Brahm Prakash, father of nuclear material.\n",
        "               I was lucky to have worked with all three of them closely and consider this the great opportunity of my life. \n",
        "               I see four milestones in my career\"\"\"\n",
        "\n"
      ]
    },
    {
      "cell_type": "code",
      "source": [
        "# Preprocessing the data\n",
        "text = re.sub(r'\\[[0-9]*\\]',' ',paragraph)\n",
        "text = re.sub(r'\\s+',' ',text)\n",
        "text = text.lower()\n",
        "text = re.sub(r'\\d',' ',text)\n",
        "text = re.sub(r'\\s+',' ',text)"
      ],
      "metadata": {
        "id": "AENLSiQmHxyw"
      },
      "execution_count": null,
      "outputs": []
    },
    {
      "cell_type": "code",
      "source": [
        "nltk.download('punkt')"
      ],
      "metadata": {
        "colab": {
          "base_uri": "https://localhost:8080/"
        },
        "id": "2QNrzhBFIBiZ",
        "outputId": "0173c861-5965-4c7c-9458-66911d2c6490"
      },
      "execution_count": null,
      "outputs": [
        {
          "output_type": "stream",
          "name": "stdout",
          "text": [
            "[nltk_data] Downloading package punkt to /root/nltk_data...\n",
            "[nltk_data]   Unzipping tokenizers/punkt.zip.\n"
          ]
        },
        {
          "output_type": "execute_result",
          "data": {
            "text/plain": [
              "True"
            ]
          },
          "metadata": {},
          "execution_count": 4
        }
      ]
    },
    {
      "cell_type": "code",
      "source": [
        "nltk.download('stopwords')"
      ],
      "metadata": {
        "colab": {
          "base_uri": "https://localhost:8080/"
        },
        "id": "T0WmeE73IKK9",
        "outputId": "089aec21-2b6c-4986-cc01-144ccf223b79"
      },
      "execution_count": null,
      "outputs": [
        {
          "output_type": "stream",
          "name": "stdout",
          "text": [
            "[nltk_data] Downloading package stopwords to /root/nltk_data...\n",
            "[nltk_data]   Unzipping corpora/stopwords.zip.\n"
          ]
        },
        {
          "output_type": "execute_result",
          "data": {
            "text/plain": [
              "True"
            ]
          },
          "metadata": {},
          "execution_count": 6
        }
      ]
    },
    {
      "cell_type": "code",
      "source": [
        "# Preparing the dataset\n",
        "sentences = nltk.sent_tokenize(text)\n",
        "\n",
        "sentences = [nltk.word_tokenize(sentence) for sentence in sentences]\n",
        "\n",
        "for i in range(len(sentences)):\n",
        "    sentences[i] = [word for word in sentences[i] if word not in stopwords.words('english')]"
      ],
      "metadata": {
        "id": "-EPhALFiH2rd"
      },
      "execution_count": null,
      "outputs": []
    },
    {
      "cell_type": "code",
      "source": [
        "    \n",
        "# Training the Word2Vec model\n",
        "model = Word2Vec(sentences, min_count=1)  #Ignores all words with total frequency lower than this."
      ],
      "metadata": {
        "id": "3LMmNfE1H2tq"
      },
      "execution_count": null,
      "outputs": []
    },
    {
      "cell_type": "code",
      "source": [
        "model"
      ],
      "metadata": {
        "colab": {
          "base_uri": "https://localhost:8080/"
        },
        "id": "1DBLZ7nIIafw",
        "outputId": "d5c8d617-b833-48a3-eb04-c3e2bebe67a4"
      },
      "execution_count": null,
      "outputs": [
        {
          "output_type": "execute_result",
          "data": {
            "text/plain": [
              "<gensim.models.word2vec.Word2Vec at 0x7ff57add3710>"
            ]
          },
          "metadata": {},
          "execution_count": 9
        }
      ]
    },
    {
      "cell_type": "code",
      "source": [
        "\n",
        "words = model.wv.vocab"
      ],
      "metadata": {
        "id": "7TdLF0KPIahc"
      },
      "execution_count": null,
      "outputs": []
    },
    {
      "cell_type": "code",
      "source": [
        "words"
      ],
      "metadata": {
        "colab": {
          "base_uri": "https://localhost:8080/"
        },
        "id": "lFKcNR6AIajq",
        "outputId": "f40a7a5d-2c83-41b0-a58b-5396fc0ade6d"
      },
      "execution_count": null,
      "outputs": [
        {
          "output_type": "execute_result",
          "data": {
            "text/plain": [
              "{',': <gensim.models.keyedvectors.Vocab at 0x7ff57ade3d90>,\n",
              " '.': <gensim.models.keyedvectors.Vocab at 0x7ff57add38d0>,\n",
              " '?': <gensim.models.keyedvectors.Vocab at 0x7ff57ade3750>,\n",
              " 'achievements': <gensim.models.keyedvectors.Vocab at 0x7ff57ad72250>,\n",
              " 'alexander': <gensim.models.keyedvectors.Vocab at 0x7ff57ade3f10>,\n",
              " 'also': <gensim.models.keyedvectors.Vocab at 0x7ff57ad71d10>,\n",
              " 'among': <gensim.models.keyedvectors.Vocab at 0x7ff57ad728d0>,\n",
              " 'anyone': <gensim.models.keyedvectors.Vocab at 0x7ff57ade3390>,\n",
              " 'areas': <gensim.models.keyedvectors.Vocab at 0x7ff57ad720d0>,\n",
              " 'believe': <gensim.models.keyedvectors.Vocab at 0x7ff57ade3e90>,\n",
              " 'brahm': <gensim.models.keyedvectors.Vocab at 0x7ff57ad710d0>,\n",
              " 'british': <gensim.models.keyedvectors.Vocab at 0x7ff57ade3310>,\n",
              " 'build': <gensim.models.keyedvectors.Vocab at 0x7ff57ad72790>,\n",
              " 'came': <gensim.models.keyedvectors.Vocab at 0x7ff57ade3690>,\n",
              " 'captured': <gensim.models.keyedvectors.Vocab at 0x7ff57ade3090>,\n",
              " 'career': <gensim.models.keyedvectors.Vocab at 0x7ff57ad6d750>,\n",
              " 'closely': <gensim.models.keyedvectors.Vocab at 0x7ff57ad6da10>,\n",
              " 'come': <gensim.models.keyedvectors.Vocab at 0x7ff57ade3b10>,\n",
              " 'conquered': <gensim.models.keyedvectors.Vocab at 0x7ff57ade30d0>,\n",
              " 'consider': <gensim.models.keyedvectors.Vocab at 0x7ff57ad6d650>,\n",
              " 'culture': <gensim.models.keyedvectors.Vocab at 0x7ff57ade3450>,\n",
              " 'dept': <gensim.models.keyedvectors.Vocab at 0x7ff57ad71190>,\n",
              " 'developed': <gensim.models.keyedvectors.Vocab at 0x7ff57ad72b90>,\n",
              " 'developing': <gensim.models.keyedvectors.Vocab at 0x7ff57ad72190>,\n",
              " 'development': <gensim.models.keyedvectors.Vocab at 0x7ff57ad72c10>,\n",
              " 'dhawan': <gensim.models.keyedvectors.Vocab at 0x7ff57ad71590>,\n",
              " 'done': <gensim.models.keyedvectors.Vocab at 0x7ff57ade32d0>,\n",
              " 'dr.': <gensim.models.keyedvectors.Vocab at 0x7ff57ad71c90>,\n",
              " 'dutch': <gensim.models.keyedvectors.Vocab at 0x7ff57ade3f90>,\n",
              " 'economic': <gensim.models.keyedvectors.Vocab at 0x7ff57ad71f50>,\n",
              " 'enforce': <gensim.models.keyedvectors.Vocab at 0x7ff57ade3bd0>,\n",
              " 'falling': <gensim.models.keyedvectors.Vocab at 0x7ff57ad72450>,\n",
              " 'father': <gensim.models.keyedvectors.Vocab at 0x7ff57ad71ad0>,\n",
              " 'fifty': <gensim.models.keyedvectors.Vocab at 0x7ff57ad72c90>,\n",
              " 'first': <gensim.models.keyedvectors.Vocab at 0x7ff57ade3190>,\n",
              " 'fortune': <gensim.models.keyedvectors.Vocab at 0x7ff57ad71150>,\n",
              " 'four': <gensim.models.keyedvectors.Vocab at 0x7ff57ad6d910>,\n",
              " 'free': <gensim.models.keyedvectors.Vocab at 0x7ff57ad72a50>,\n",
              " 'freedom': <gensim.models.keyedvectors.Vocab at 0x7ff57ade3250>,\n",
              " 'french': <gensim.models.keyedvectors.Vocab at 0x7ff57ade33d0>,\n",
              " 'gdp': <gensim.models.keyedvectors.Vocab at 0x7ff57ad72b10>,\n",
              " 'globally': <gensim.models.keyedvectors.Vocab at 0x7ff57ad72750>,\n",
              " 'go': <gensim.models.keyedvectors.Vocab at 0x7ff57ad71e50>,\n",
              " 'good': <gensim.models.keyedvectors.Vocab at 0x7ff57ad71d50>,\n",
              " 'got': <gensim.models.keyedvectors.Vocab at 0x7ff57ade3c10>,\n",
              " 'grabbed': <gensim.models.keyedvectors.Vocab at 0x7ff57ade3510>,\n",
              " 'great': <gensim.models.keyedvectors.Vocab at 0x7ff57ad71710>,\n",
              " 'greeks': <gensim.models.keyedvectors.Vocab at 0x7ff57ade3d10>,\n",
              " 'growth': <gensim.models.keyedvectors.Vocab at 0x7ff57ad72310>,\n",
              " 'hand-in-hand': <gensim.models.keyedvectors.Vocab at 0x7ff57ad71bd0>,\n",
              " 'history': <gensim.models.keyedvectors.Vocab at 0x7ff57ade3fd0>,\n",
              " 'incorrect': <gensim.models.keyedvectors.Vocab at 0x7ff57ad72f10>,\n",
              " 'independence': <gensim.models.keyedvectors.Vocab at 0x7ff57ade3cd0>,\n",
              " 'india': <gensim.models.keyedvectors.Vocab at 0x7ff57add3150>,\n",
              " 'invaded': <gensim.models.keyedvectors.Vocab at 0x7ff57ade3e50>,\n",
              " 'lack': <gensim.models.keyedvectors.Vocab at 0x7ff57ad72510>,\n",
              " 'land': <gensim.models.keyedvectors.Vocab at 0x7ff57ade3e10>,\n",
              " 'lands': <gensim.models.keyedvectors.Vocab at 0x7ff57ade3850>,\n",
              " 'levels': <gensim.models.keyedvectors.Vocab at 0x7ff57ad72090>,\n",
              " 'life': <gensim.models.keyedvectors.Vocab at 0x7ff57ade3610>,\n",
              " 'looted': <gensim.models.keyedvectors.Vocab at 0x7ff57ade34d0>,\n",
              " 'lucky': <gensim.models.keyedvectors.Vocab at 0x7ff57ad6d710>,\n",
              " 'material': <gensim.models.keyedvectors.Vocab at 0x7ff57ad6d7d0>,\n",
              " 'milestones': <gensim.models.keyedvectors.Vocab at 0x7ff57ad6dc50>,\n",
              " 'military': <gensim.models.keyedvectors.Vocab at 0x7ff57ad71850>,\n",
              " 'minds': <gensim.models.keyedvectors.Vocab at 0x7ff57ade3110>,\n",
              " 'moguls': <gensim.models.keyedvectors.Vocab at 0x7ff57ade3c90>,\n",
              " 'must': <gensim.models.keyedvectors.Vocab at 0x7ff57ade3790>,\n",
              " 'nation': <gensim.models.keyedvectors.Vocab at 0x7ff57ade3650>,\n",
              " 'nations': <gensim.models.keyedvectors.Vocab at 0x7ff57ad72850>,\n",
              " 'nuclear': <gensim.models.keyedvectors.Vocab at 0x7ff57ad6d6d0>,\n",
              " 'nurture': <gensim.models.keyedvectors.Vocab at 0x7ff57ad72e10>,\n",
              " 'one': <gensim.models.keyedvectors.Vocab at 0x7ff57ad72490>,\n",
              " 'onwards': <gensim.models.keyedvectors.Vocab at 0x7ff57ade3c50>,\n",
              " 'opportunity': <gensim.models.keyedvectors.Vocab at 0x7ff57ad6dd10>,\n",
              " 'others.that': <gensim.models.keyedvectors.Vocab at 0x7ff57ade3350>,\n",
              " 'people': <gensim.models.keyedvectors.Vocab at 0x7ff57ade37d0>,\n",
              " 'percent': <gensim.models.keyedvectors.Vocab at 0x7ff57ad72d10>,\n",
              " 'portuguese': <gensim.models.keyedvectors.Vocab at 0x7ff57ade3a50>,\n",
              " 'poverty': <gensim.models.keyedvectors.Vocab at 0x7ff57ad72410>,\n",
              " 'power': <gensim.models.keyedvectors.Vocab at 0x7ff57ad71950>,\n",
              " 'prakash': <gensim.models.keyedvectors.Vocab at 0x7ff57ad717d0>,\n",
              " 'professor': <gensim.models.keyedvectors.Vocab at 0x7ff57ad715d0>,\n",
              " 'protect': <gensim.models.keyedvectors.Vocab at 0x7ff57ad72950>,\n",
              " 'rate': <gensim.models.keyedvectors.Vocab at 0x7ff57ad721d0>,\n",
              " 'recognised': <gensim.models.keyedvectors.Vocab at 0x7ff57ad72050>,\n",
              " 'respect': <gensim.models.keyedvectors.Vocab at 0x7ff57ade3050>,\n",
              " 'respects': <gensim.models.keyedvectors.Vocab at 0x7ff57ad71b50>,\n",
              " 'sarabhai': <gensim.models.keyedvectors.Vocab at 0x7ff57ad71490>,\n",
              " 'satish': <gensim.models.keyedvectors.Vocab at 0x7ff57ad71550>,\n",
              " 'second': <gensim.models.keyedvectors.Vocab at 0x7ff57ad72f90>,\n",
              " 'see': <gensim.models.keyedvectors.Vocab at 0x7ff57ad72d90>,\n",
              " 'self-assured': <gensim.models.keyedvectors.Vocab at 0x7ff57ad72350>,\n",
              " 'self-confidence': <gensim.models.keyedvectors.Vocab at 0x7ff57ad726d0>,\n",
              " 'self-reliant': <gensim.models.keyedvectors.Vocab at 0x7ff57ad72550>,\n",
              " 'space': <gensim.models.keyedvectors.Vocab at 0x7ff57ad71410>,\n",
              " 'stand': <gensim.models.keyedvectors.Vocab at 0x7ff57ad72a10>,\n",
              " 'stands': <gensim.models.keyedvectors.Vocab at 0x7ff57ad71a90>,\n",
              " 'started': <gensim.models.keyedvectors.Vocab at 0x7ff57ade31d0>,\n",
              " 'strength': <gensim.models.keyedvectors.Vocab at 0x7ff57ad71390>,\n",
              " 'strong': <gensim.models.keyedvectors.Vocab at 0x7ff57ad71a50>,\n",
              " 'succeeded': <gensim.models.keyedvectors.Vocab at 0x7ff57ad71750>,\n",
              " 'terms': <gensim.models.keyedvectors.Vocab at 0x7ff57ad72710>,\n",
              " 'third': <gensim.models.keyedvectors.Vocab at 0x7ff57ad72610>,\n",
              " 'three': <gensim.models.keyedvectors.Vocab at 0x7ff57add3c90>,\n",
              " 'time': <gensim.models.keyedvectors.Vocab at 0x7ff57ad72c50>,\n",
              " 'today': <gensim.models.keyedvectors.Vocab at 0x7ff57ad72110>,\n",
              " 'took': <gensim.models.keyedvectors.Vocab at 0x7ff57ade3290>,\n",
              " 'top': <gensim.models.keyedvectors.Vocab at 0x7ff57ad722d0>,\n",
              " 'tried': <gensim.models.keyedvectors.Vocab at 0x7ff57ade36d0>,\n",
              " 'turks': <gensim.models.keyedvectors.Vocab at 0x7ff57ade3990>,\n",
              " 'unless': <gensim.models.keyedvectors.Vocab at 0x7ff57ad71450>,\n",
              " 'us': <gensim.models.keyedvectors.Vocab at 0x7ff57ade3710>,\n",
              " 'vikram': <gensim.models.keyedvectors.Vocab at 0x7ff57ad71350>,\n",
              " 'vision': <gensim.models.keyedvectors.Vocab at 0x7ff57ade3ed0>,\n",
              " 'visions': <gensim.models.keyedvectors.Vocab at 0x7ff57add3f50>,\n",
              " 'war': <gensim.models.keyedvectors.Vocab at 0x7ff57ade3ad0>,\n",
              " 'way': <gensim.models.keyedvectors.Vocab at 0x7ff57ade38d0>,\n",
              " 'worked': <gensim.models.keyedvectors.Vocab at 0x7ff57ad71b90>,\n",
              " 'world': <gensim.models.keyedvectors.Vocab at 0x7ff57ade3810>,\n",
              " 'years': <gensim.models.keyedvectors.Vocab at 0x7ff57ade3150>,\n",
              " 'yet': <gensim.models.keyedvectors.Vocab at 0x7ff57ade3f50>,\n",
              " '’': <gensim.models.keyedvectors.Vocab at 0x7ff57ad72cd0>}"
            ]
          },
          "metadata": {},
          "execution_count": 11
        }
      ]
    },
    {
      "cell_type": "code",
      "source": [
        "# Finding Word Vectors\n",
        "vector = model.wv['war']"
      ],
      "metadata": {
        "id": "OCmaeDOMIalf"
      },
      "execution_count": null,
      "outputs": []
    },
    {
      "cell_type": "code",
      "source": [
        "vector"
      ],
      "metadata": {
        "colab": {
          "base_uri": "https://localhost:8080/"
        },
        "id": "CBmqRvKlIpJT",
        "outputId": "db16fe18-5014-47f0-b34d-4709e77fb871"
      },
      "execution_count": null,
      "outputs": [
        {
          "output_type": "execute_result",
          "data": {
            "text/plain": [
              "array([ 2.2292584e-03,  3.9970567e-03, -4.1932473e-03,  4.6039843e-03,\n",
              "       -4.2237295e-03, -8.8347227e-04, -3.2294870e-03,  3.2568967e-03,\n",
              "       -1.4619346e-03,  2.8525821e-03,  4.4203358e-04,  2.4336870e-03,\n",
              "       -5.3867430e-04,  6.7612960e-04, -4.7111674e-03, -3.7738292e-03,\n",
              "       -5.5842602e-04,  2.4305061e-03, -1.5622881e-03, -1.8870564e-03,\n",
              "        1.5513478e-03, -2.1875766e-03,  2.5558453e-03,  3.6194439e-03,\n",
              "        3.9153099e-03, -2.7588911e-03,  1.8199800e-03, -9.1345340e-05,\n",
              "       -2.5007098e-03, -2.8553940e-03,  1.6825981e-03,  3.7132874e-03,\n",
              "       -1.0202356e-03,  1.4266659e-03, -2.4352681e-03, -3.0924135e-03,\n",
              "       -1.6038956e-03, -1.2755052e-03,  4.7693476e-03, -2.3666224e-04,\n",
              "       -7.5877190e-04, -3.2569466e-03,  1.1510866e-03,  4.0285746e-03,\n",
              "       -2.3587574e-03, -1.4235387e-03, -2.3006210e-03, -1.0689505e-03,\n",
              "       -4.2013940e-03,  9.9457335e-04,  3.1270515e-03, -2.0781938e-04,\n",
              "       -2.2856186e-03, -2.8536941e-03,  1.8740389e-03, -4.8296360e-04,\n",
              "       -1.2288016e-04, -9.4485917e-04, -4.7372808e-03,  2.7772749e-03,\n",
              "        1.9144079e-03,  3.2639888e-03, -2.2623921e-03,  3.0422180e-03,\n",
              "       -3.6823647e-03, -2.1853871e-03, -2.8420733e-03,  1.9499299e-04,\n",
              "        3.5260131e-03,  1.1793262e-03, -4.7693937e-03, -1.2732939e-03,\n",
              "        2.2581154e-03, -2.1451901e-04,  2.3634844e-03, -4.2862734e-03,\n",
              "        2.9246137e-03,  1.2063849e-03, -3.1256732e-03, -3.2623047e-03,\n",
              "        1.6369093e-03, -3.6027683e-03, -2.6828068e-04,  9.9782308e-04,\n",
              "        1.7276737e-03,  4.0578432e-03, -2.5320139e-03,  2.3686825e-03,\n",
              "        9.7359641e-04, -2.0984383e-03,  2.7690527e-03,  6.9339765e-04,\n",
              "       -1.3943682e-03, -4.0859766e-03,  1.5160409e-03,  7.9897168e-04,\n",
              "        1.3283729e-04, -7.7530323e-04, -2.6703521e-03, -3.4706050e-03],\n",
              "      dtype=float32)"
            ]
          },
          "metadata": {},
          "execution_count": 15
        }
      ]
    },
    {
      "cell_type": "code",
      "source": [
        "# Most similar words\n",
        "similar = model.wv.most_similar('vikram')"
      ],
      "metadata": {
        "id": "qOjbwifsIpHf"
      },
      "execution_count": null,
      "outputs": []
    },
    {
      "cell_type": "code",
      "source": [
        "similar"
      ],
      "metadata": {
        "colab": {
          "base_uri": "https://localhost:8080/"
        },
        "id": "fEVdVVF0I3FM",
        "outputId": "f1aa8726-a5ac-41ac-dee1-385e81d207ab"
      },
      "execution_count": null,
      "outputs": [
        {
          "output_type": "execute_result",
          "data": {
            "text/plain": [
              "[('build', 0.24746502935886383),\n",
              " ('independence', 0.23746377229690552),\n",
              " ('rate', 0.2355085015296936),\n",
              " ('strength', 0.23073770105838776),\n",
              " ('professor', 0.21380740404129028),\n",
              " ('one', 0.21243542432785034),\n",
              " ('vision', 0.18319746851921082),\n",
              " ('material', 0.16458642482757568),\n",
              " ('british', 0.1580759733915329),\n",
              " ('started', 0.1530715525150299)]"
            ]
          },
          "metadata": {},
          "execution_count": 19
        }
      ]
    }
  ]
}